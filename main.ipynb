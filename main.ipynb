{
 "cells": [
  {
   "cell_type": "code",
   "execution_count": 1,
   "id": "fa4dab04",
   "metadata": {},
   "outputs": [],
   "source": [
    "import os\n",
    "\n",
    "from src.resnet import ResNet18\n",
    "from src.preprocessing import Preprocessing"
   ]
  },
  {
   "cell_type": "code",
   "execution_count": 2,
   "id": "c1d81c27",
   "metadata": {},
   "outputs": [],
   "source": [
    "os.makedirs(\"./data\", exist_ok=True) \n",
    "os.makedirs(\"./models\", exist_ok=True) "
   ]
  },
  {
   "cell_type": "code",
   "execution_count": 3,
   "id": "6233942d",
   "metadata": {},
   "outputs": [
    {
     "name": "stderr",
     "output_type": "stream",
     "text": [
      "100%|██████████| 170M/170M [00:41<00:00, 4.09MB/s] \n",
      "/home/minin/workspace/ErrorCorrector/venv/lib/python3.10/site-packages/torchvision/models/_utils.py:223: UserWarning: Arguments other than a weight enum or `None` for 'weights' are deprecated since 0.13 and may be removed in the future. The current behavior is equivalent to passing `weights=ResNet18_Weights.IMAGENET1K_V1`. You can also use `weights=ResNet18_Weights.DEFAULT` to get the most up-to-date weights.\n",
      "  warnings.warn(msg)\n"
     ]
    },
    {
     "name": "stdout",
     "output_type": "stream",
     "text": [
      "\n",
      "Epoch 1\n"
     ]
    },
    {
     "name": "stderr",
     "output_type": "stream",
     "text": [
      "Training: 100%|██████████| 782/782 [00:30<00:00, 25.28it/s]\n",
      "Evaluating: 100%|██████████| 157/157 [00:01<00:00, 81.54it/s]\n"
     ]
    },
    {
     "name": "stdout",
     "output_type": "stream",
     "text": [
      "Train Loss: 0.9474, Test Loss: 0.8184, Accuracy: 72.45%\n",
      "\n",
      "Epoch 2\n"
     ]
    },
    {
     "name": "stderr",
     "output_type": "stream",
     "text": [
      "Training: 100%|██████████| 782/782 [00:31<00:00, 24.87it/s]\n",
      "Evaluating: 100%|██████████| 157/157 [00:01<00:00, 82.11it/s]\n"
     ]
    },
    {
     "name": "stdout",
     "output_type": "stream",
     "text": [
      "Train Loss: 0.6433, Test Loss: 0.6651, Accuracy: 77.32%\n",
      "\n",
      "Epoch 3\n"
     ]
    },
    {
     "name": "stderr",
     "output_type": "stream",
     "text": [
      "Training: 100%|██████████| 782/782 [00:31<00:00, 24.84it/s]\n",
      "Evaluating: 100%|██████████| 157/157 [00:01<00:00, 81.88it/s]\n"
     ]
    },
    {
     "name": "stdout",
     "output_type": "stream",
     "text": [
      "Train Loss: 0.5118, Test Loss: 0.6280, Accuracy: 79.05%\n",
      "\n",
      "Epoch 4\n"
     ]
    },
    {
     "name": "stderr",
     "output_type": "stream",
     "text": [
      "Training: 100%|██████████| 782/782 [00:31<00:00, 24.70it/s]\n",
      "Evaluating: 100%|██████████| 157/157 [00:02<00:00, 78.47it/s]\n"
     ]
    },
    {
     "name": "stdout",
     "output_type": "stream",
     "text": [
      "Train Loss: 0.4214, Test Loss: 0.6022, Accuracy: 80.22%\n",
      "\n",
      "Epoch 5\n"
     ]
    },
    {
     "name": "stderr",
     "output_type": "stream",
     "text": [
      "Training: 100%|██████████| 782/782 [00:31<00:00, 24.69it/s]\n",
      "Evaluating: 100%|██████████| 157/157 [00:01<00:00, 81.73it/s]\n"
     ]
    },
    {
     "name": "stdout",
     "output_type": "stream",
     "text": [
      "Train Loss: 0.3253, Test Loss: 0.6364, Accuracy: 80.28%\n",
      "\n",
      "Epoch 6\n"
     ]
    },
    {
     "name": "stderr",
     "output_type": "stream",
     "text": [
      "Training: 100%|██████████| 782/782 [00:31<00:00, 24.66it/s]\n",
      "Evaluating: 100%|██████████| 157/157 [00:01<00:00, 81.05it/s]\n"
     ]
    },
    {
     "name": "stdout",
     "output_type": "stream",
     "text": [
      "Train Loss: 0.2796, Test Loss: 0.6301, Accuracy: 80.76%\n",
      "\n",
      "Epoch 7\n"
     ]
    },
    {
     "name": "stderr",
     "output_type": "stream",
     "text": [
      "Training: 100%|██████████| 782/782 [00:31<00:00, 24.77it/s]\n",
      "Evaluating: 100%|██████████| 157/157 [00:01<00:00, 81.96it/s]\n"
     ]
    },
    {
     "name": "stdout",
     "output_type": "stream",
     "text": [
      "Train Loss: 0.2156, Test Loss: 0.6491, Accuracy: 81.16%\n",
      "\n",
      "Epoch 8\n"
     ]
    },
    {
     "name": "stderr",
     "output_type": "stream",
     "text": [
      "Training: 100%|██████████| 782/782 [00:31<00:00, 24.72it/s]\n",
      "Evaluating: 100%|██████████| 157/157 [00:01<00:00, 82.94it/s]\n"
     ]
    },
    {
     "name": "stdout",
     "output_type": "stream",
     "text": [
      "Train Loss: 0.1707, Test Loss: 0.7063, Accuracy: 80.35%\n",
      "\n",
      "Epoch 9\n"
     ]
    },
    {
     "name": "stderr",
     "output_type": "stream",
     "text": [
      "Training: 100%|██████████| 782/782 [00:31<00:00, 24.74it/s]\n",
      "Evaluating: 100%|██████████| 157/157 [00:01<00:00, 81.81it/s]\n"
     ]
    },
    {
     "name": "stdout",
     "output_type": "stream",
     "text": [
      "Train Loss: 0.1450, Test Loss: 0.7990, Accuracy: 79.43%\n",
      "\n",
      "Epoch 10\n"
     ]
    },
    {
     "name": "stderr",
     "output_type": "stream",
     "text": [
      "Training: 100%|██████████| 782/782 [00:31<00:00, 24.72it/s]\n",
      "Evaluating: 100%|██████████| 157/157 [00:01<00:00, 80.87it/s]\n"
     ]
    },
    {
     "name": "stdout",
     "output_type": "stream",
     "text": [
      "Train Loss: 0.1326, Test Loss: 0.7996, Accuracy: 78.90%\n",
      "Model saved to models/weights_resnet18.pth\n"
     ]
    }
   ],
   "source": [
    "trainer = ResNet18(\n",
    "        data_dir=\"./data\",\n",
    "        batch_size=64,\n",
    "        learning_rate=0.001,\n",
    "        num_epochs=10,\n",
    "        pretrained=True\n",
    "    )\n",
    "\n",
    "history = trainer.train() \n",
    "\n",
    "trainer.save_model(\"models/weights_resnet18.pth\")"
   ]
  },
  {
   "cell_type": "code",
   "execution_count": 4,
   "id": "6f09d4fe",
   "metadata": {},
   "outputs": [
    {
     "name": "stderr",
     "output_type": "stream",
     "text": [
      "/home/minin/workspace/ErrorCorrector/venv/lib/python3.10/site-packages/torchvision/models/_utils.py:223: UserWarning: Arguments other than a weight enum or `None` for 'weights' are deprecated since 0.13 and may be removed in the future. The current behavior is equivalent to passing `weights=None`.\n",
      "  warnings.warn(msg)\n"
     ]
    },
    {
     "name": "stdout",
     "output_type": "stream",
     "text": [
      "Правильные предсказания (CR): 7949\n",
      "Ошибки (WR): 2051\n"
     ]
    }
   ],
   "source": [
    "preprocessing = Preprocessing(\n",
    "    weigths_path=\"models/weights_resnet18.pth\",\n",
    "    data_path=\"./data\"\n",
    ") \n",
    "\n",
    "train_CR, test_CR, train_WR, test_WR = preprocessing.get_data()"
   ]
  }
 ],
 "metadata": {
  "kernelspec": {
   "display_name": "venv",
   "language": "python",
   "name": "python3"
  },
  "language_info": {
   "codemirror_mode": {
    "name": "ipython",
    "version": 3
   },
   "file_extension": ".py",
   "mimetype": "text/x-python",
   "name": "python",
   "nbconvert_exporter": "python",
   "pygments_lexer": "ipython3",
   "version": "3.10.12"
  }
 },
 "nbformat": 4,
 "nbformat_minor": 5
}
